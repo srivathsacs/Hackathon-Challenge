{
 "cells": [
  {
   "cell_type": "markdown",
   "metadata": {},
   "source": [
    "## Hackathon Challenge:\n",
    "\n",
    "Across the world, COVID-19 cases are constantly fluctuating, often influenced and shaped by public policy, community sentiment and other external factors. The United States of America has seen some of the wildest changes globally, and understanding its inputs requires a deep analysis into the drivers of the infection rate on the local, state and federal level.\n",
    "\n",
    "The goal is to develop an algorithm that will predict the number of COVID-19 cases in the United States of America, between 27 July to 15 August."
   ]
  },
  {
   "cell_type": "markdown",
   "metadata": {},
   "source": [
    "## Importing Libraries"
   ]
  },
  {
   "cell_type": "code",
   "execution_count": 1,
   "metadata": {},
   "outputs": [
    {
     "name": "stderr",
     "output_type": "stream",
     "text": [
      "Using TensorFlow backend.\n"
     ]
    }
   ],
   "source": [
    "import keras \n",
    "import pandas as pd\n",
    "import numpy as np\n",
    "import matplotlib.pyplot as plt\n",
    "import seaborn as sns\n",
    "from keras.models import Sequential\n",
    "from keras.layers import Dense\n",
    "from keras.layers import LSTM\n",
    "from keras.layers import Dropout\n",
    "import os\n",
    "from tensorflow.keras.preprocessing.sequence import TimeseriesGenerator\n",
    "from sklearn.preprocessing import MinMaxScaler"
   ]
  },
  {
   "cell_type": "markdown",
   "metadata": {},
   "source": [
    "## Part 1: Building the Model and Comapring Against the Test Data"
   ]
  },
  {
   "cell_type": "markdown",
   "metadata": {},
   "source": [
    "## Reading train and test data"
   ]
  },
  {
   "cell_type": "code",
   "execution_count": 2,
   "metadata": {},
   "outputs": [],
   "source": [
    "dicPath = os.getcwd()\n",
    "dicPathData = os.path.join(dicPath,'Hackathon','us-counties.csv')\n",
    "dataset = pd.read_csv(dicPathData)\n",
    "\n",
    "test_dicpathdata = os.path.join(dicPath,'Hackathon','WHO-COVID-19-global-data.csv')\n",
    "dataset_test = pd.read_csv(test_dicpathdata)"
   ]
  },
  {
   "cell_type": "markdown",
   "metadata": {},
   "source": [
    "## Data Preprocessing:\n",
    "\n",
    "    -> handling null values, dirty data having values as \"Unknown\"\n",
    "    -> removing the territories of USA to include only USA states"
   ]
  },
  {
   "cell_type": "code",
   "execution_count": 3,
   "metadata": {},
   "outputs": [
    {
     "data": {
      "text/html": [
       "<div>\n",
       "<style scoped>\n",
       "    .dataframe tbody tr th:only-of-type {\n",
       "        vertical-align: middle;\n",
       "    }\n",
       "\n",
       "    .dataframe tbody tr th {\n",
       "        vertical-align: top;\n",
       "    }\n",
       "\n",
       "    .dataframe thead th {\n",
       "        text-align: right;\n",
       "    }\n",
       "</style>\n",
       "<table border=\"1\" class=\"dataframe\">\n",
       "  <thead>\n",
       "    <tr style=\"text-align: right;\">\n",
       "      <th></th>\n",
       "      <th>date</th>\n",
       "      <th>county</th>\n",
       "      <th>state</th>\n",
       "      <th>fips</th>\n",
       "      <th>cases</th>\n",
       "      <th>deaths</th>\n",
       "    </tr>\n",
       "  </thead>\n",
       "  <tbody>\n",
       "    <tr>\n",
       "      <th>0</th>\n",
       "      <td>2020-01-21</td>\n",
       "      <td>Snohomish</td>\n",
       "      <td>Washington</td>\n",
       "      <td>53061.0</td>\n",
       "      <td>1</td>\n",
       "      <td>0</td>\n",
       "    </tr>\n",
       "    <tr>\n",
       "      <th>1</th>\n",
       "      <td>2020-01-22</td>\n",
       "      <td>Snohomish</td>\n",
       "      <td>Washington</td>\n",
       "      <td>53061.0</td>\n",
       "      <td>1</td>\n",
       "      <td>0</td>\n",
       "    </tr>\n",
       "    <tr>\n",
       "      <th>2</th>\n",
       "      <td>2020-01-23</td>\n",
       "      <td>Snohomish</td>\n",
       "      <td>Washington</td>\n",
       "      <td>53061.0</td>\n",
       "      <td>1</td>\n",
       "      <td>0</td>\n",
       "    </tr>\n",
       "    <tr>\n",
       "      <th>3</th>\n",
       "      <td>2020-01-24</td>\n",
       "      <td>Cook</td>\n",
       "      <td>Illinois</td>\n",
       "      <td>17031.0</td>\n",
       "      <td>1</td>\n",
       "      <td>0</td>\n",
       "    </tr>\n",
       "    <tr>\n",
       "      <th>4</th>\n",
       "      <td>2020-01-24</td>\n",
       "      <td>Snohomish</td>\n",
       "      <td>Washington</td>\n",
       "      <td>53061.0</td>\n",
       "      <td>1</td>\n",
       "      <td>0</td>\n",
       "    </tr>\n",
       "  </tbody>\n",
       "</table>\n",
       "</div>"
      ],
      "text/plain": [
       "         date     county       state     fips  cases  deaths\n",
       "0  2020-01-21  Snohomish  Washington  53061.0      1       0\n",
       "1  2020-01-22  Snohomish  Washington  53061.0      1       0\n",
       "2  2020-01-23  Snohomish  Washington  53061.0      1       0\n",
       "3  2020-01-24       Cook    Illinois  17031.0      1       0\n",
       "4  2020-01-24  Snohomish  Washington  53061.0      1       0"
      ]
     },
     "execution_count": 3,
     "metadata": {},
     "output_type": "execute_result"
    }
   ],
   "source": [
    "dataset = dataset.replace('Unknown', np.nan)\n",
    "dataset['county'].isna().sum() \n",
    "dataset['county'].isna().sum() \n",
    "dataset = dataset[dataset['county'].notna()]\n",
    "\n",
    "dataset['state'].unique()\n",
    "dataset = dataset.replace(['Puerto Rico','Virgin Islands','Northern Mariana Islands'], np.nan)\n",
    "dataset['state'].isna().sum() \n",
    "dataset = dataset[dataset['state'].notna()]\n",
    "dataset['state'].isna().sum() \n",
    "dataset['state'].unique()\n",
    "dataset.head()"
   ]
  },
  {
   "cell_type": "markdown",
   "metadata": {},
   "source": [
    "## Feature Engineering:\n",
    "\n",
    "Mapping USA states to their respective regions to create a new column \"region\",to further analyze the data based on regions"
   ]
  },
  {
   "cell_type": "code",
   "execution_count": 4,
   "metadata": {},
   "outputs": [
    {
     "data": {
      "text/html": [
       "<div>\n",
       "<style scoped>\n",
       "    .dataframe tbody tr th:only-of-type {\n",
       "        vertical-align: middle;\n",
       "    }\n",
       "\n",
       "    .dataframe tbody tr th {\n",
       "        vertical-align: top;\n",
       "    }\n",
       "\n",
       "    .dataframe thead th {\n",
       "        text-align: right;\n",
       "    }\n",
       "</style>\n",
       "<table border=\"1\" class=\"dataframe\">\n",
       "  <thead>\n",
       "    <tr style=\"text-align: right;\">\n",
       "      <th></th>\n",
       "      <th>date</th>\n",
       "      <th>county</th>\n",
       "      <th>state</th>\n",
       "      <th>fips</th>\n",
       "      <th>cases</th>\n",
       "      <th>deaths</th>\n",
       "      <th>region</th>\n",
       "    </tr>\n",
       "  </thead>\n",
       "  <tbody>\n",
       "    <tr>\n",
       "      <th>0</th>\n",
       "      <td>2020-01-21</td>\n",
       "      <td>Snohomish</td>\n",
       "      <td>Washington</td>\n",
       "      <td>53061.0</td>\n",
       "      <td>1</td>\n",
       "      <td>0</td>\n",
       "      <td>West</td>\n",
       "    </tr>\n",
       "    <tr>\n",
       "      <th>1</th>\n",
       "      <td>2020-01-22</td>\n",
       "      <td>Snohomish</td>\n",
       "      <td>Washington</td>\n",
       "      <td>53061.0</td>\n",
       "      <td>1</td>\n",
       "      <td>0</td>\n",
       "      <td>West</td>\n",
       "    </tr>\n",
       "    <tr>\n",
       "      <th>2</th>\n",
       "      <td>2020-01-23</td>\n",
       "      <td>Snohomish</td>\n",
       "      <td>Washington</td>\n",
       "      <td>53061.0</td>\n",
       "      <td>1</td>\n",
       "      <td>0</td>\n",
       "      <td>West</td>\n",
       "    </tr>\n",
       "    <tr>\n",
       "      <th>3</th>\n",
       "      <td>2020-01-24</td>\n",
       "      <td>Cook</td>\n",
       "      <td>Illinois</td>\n",
       "      <td>17031.0</td>\n",
       "      <td>1</td>\n",
       "      <td>0</td>\n",
       "      <td>Midwest</td>\n",
       "    </tr>\n",
       "    <tr>\n",
       "      <th>4</th>\n",
       "      <td>2020-01-24</td>\n",
       "      <td>Snohomish</td>\n",
       "      <td>Washington</td>\n",
       "      <td>53061.0</td>\n",
       "      <td>1</td>\n",
       "      <td>0</td>\n",
       "      <td>West</td>\n",
       "    </tr>\n",
       "  </tbody>\n",
       "</table>\n",
       "</div>"
      ],
      "text/plain": [
       "         date     county       state     fips  cases  deaths   region\n",
       "0  2020-01-21  Snohomish  Washington  53061.0      1       0     West\n",
       "1  2020-01-22  Snohomish  Washington  53061.0      1       0     West\n",
       "2  2020-01-23  Snohomish  Washington  53061.0      1       0     West\n",
       "3  2020-01-24       Cook    Illinois  17031.0      1       0  Midwest\n",
       "4  2020-01-24  Snohomish  Washington  53061.0      1       0     West"
      ]
     },
     "execution_count": 4,
     "metadata": {},
     "output_type": "execute_result"
    }
   ],
   "source": [
    "regions = {'Maine':'Northeast',' Massachusetts':'Northeast', 'Rhode Island':'Northeast', 'Connecticut':'Northeast', 'New Hampshire':'Northeast', \n",
    " 'Vermont':'Northeast', 'New York':'Northeast', 'Pennsylvania':'Northeast', 'New Jersey':'Northeast', 'Delaware':'Northeast', \n",
    " 'Maryland':'Northeast','West Virginia':'Southeast', 'Virginia':'Southeast', 'Kentucky':'Southeast', 'Tennessee':'Southeast', 'North Carolina':'Southeast', \n",
    " 'South Carolina':'Southeast', 'Georgia':'Southeast',' Alabama':'Southeast','Mississippi':'Southeast', 'Arkansas':'Southeast',' Louisiana':'Southeast', \n",
    " 'Florida':'Southeast', 'Ohio':'Midwest', 'Indiana':'Midwest', 'Michigan':'Midwest', 'Illinois':'Midwest', 'Missouri':'Midwest', \n",
    " 'Wisconsin':'Midwest', 'Minnesota':'Midwest', 'Iowa':'Midwest', 'Kansas':'Midwest', 'Nebraska':'Midwest', 'South Dakota':'Midwest', \n",
    " 'North Dakota':'Midwest','Texas':'Southwest', 'Oklahoma':'Southwest',' New Mexico':'Southwest',' Arizona':'Southwest','Colorado':'West',' Wyoming':'West',\n",
    " 'Montana':'West', 'Idaho':'West', 'Washington':'West', 'Oregon':'West', 'Utah':'West',' Nevada':'West', 'California':'West', 'Alaska':'West', 'Hawaii':'West'}\n",
    "\n",
    "\n",
    "dataset['region'] = dataset['state'].map(regions)\n",
    "dataset.head()"
   ]
  },
  {
   "cell_type": "markdown",
   "metadata": {},
   "source": [
    "## Exploratory Data Analysis"
   ]
  },
  {
   "cell_type": "markdown",
   "metadata": {},
   "source": [
    "#### 1) Region v/s Cases"
   ]
  },
  {
   "cell_type": "code",
   "execution_count": 5,
   "metadata": {},
   "outputs": [
    {
     "data": {
      "text/plain": [
       "Text(130.75, 0.5, 'Cases')"
      ]
     },
     "execution_count": 5,
     "metadata": {},
     "output_type": "execute_result"
    },
    {
     "data": {
      "image/png": "[encoded data removed]",
      "text/plain": [
       "<Figure size 1440x576 with 1 Axes>"
      ]
     },
     "metadata": {
      "needs_background": "light"
     },
     "output_type": "display_data"
    }
   ],
   "source": [
    "region_grp = dataset.groupby('region')['cases'].count().reset_index().sort_values(by = 'cases', ascending=False)\n",
    "plt.figure(figsize=(20,8))\n",
    "b = sns.barplot(x=region_grp['region'],y = region_grp['cases'], data=region_grp)\n",
    "plt.xticks()\n",
    "plt.tight_layout()\n",
    "b.axes.set_title(\"Region v/s Cases\",fontsize=25)\n",
    "b.set_xlabel(\"Region\",fontsize=25)\n",
    "b.set_ylabel(\"Cases\",fontsize=25)"
   ]
  },
  {
   "cell_type": "markdown",
   "metadata": {},
   "source": [
    "As we can see that the maximum number of COVID 19 cases are in Midwest and SouthEast region and it is reflected in the State v/s Cases plot"
   ]
  },
  {
   "cell_type": "markdown",
   "metadata": {},
   "source": [
    "#### 2) State V/S Cases"
   ]
  },
  {
   "cell_type": "code",
   "execution_count": 6,
   "metadata": {},
   "outputs": [
    {
     "data": {
      "text/plain": [
       "Text(137.125, 0.5, 'Cases')"
      ]
     },
     "execution_count": 6,
     "metadata": {},
     "output_type": "execute_result"
    },
    {
     "data": {
      "image/png": "[encoded data removed]",
      "text/plain": [
       "<Figure size 1440x576 with 1 Axes>"
      ]
     },
     "metadata": {
      "needs_background": "light"
     },
     "output_type": "display_data"
    }
   ],
   "source": [
    "state_grp = dataset.groupby('state')['cases'].count().reset_index().sort_values(by = 'cases', ascending=False)\n",
    "plt.figure(figsize=(20,8))\n",
    "a = sns.barplot(x=state_grp['state'],y = state_grp['cases'], data=state_grp)\n",
    "plt.xticks(rotation=90)\n",
    "plt.tight_layout()\n",
    "a.axes.set_title(\"State v/s Cases\",fontsize=30)\n",
    "a.set_xlabel(\"States\",fontsize=30)\n",
    "a.set_ylabel(\"Cases\",fontsize=30)"
   ]
  },
  {
   "cell_type": "markdown",
   "metadata": {},
   "source": [
    "### Plotting Correlations among variables "
   ]
  },
  {
   "cell_type": "code",
   "execution_count": 7,
   "metadata": {},
   "outputs": [
    {
     "data": {
      "text/plain": [
       "<matplotlib.axes._subplots.AxesSubplot at 0x2bfbca37548>"
      ]
     },
     "execution_count": 7,
     "metadata": {},
     "output_type": "execute_result"
    },
    {
     "data": {
      "image/png": "[encoded data removed]",
      "text/plain": [
       "<Figure size 432x288 with 2 Axes>"
      ]
     },
     "metadata": {
      "needs_background": "light"
     },
     "output_type": "display_data"
    }
   ],
   "source": [
    "sns.heatmap(dataset.corr(),annot=True, cmap='coolwarm')"
   ]
  },
  {
   "cell_type": "markdown",
   "metadata": {},
   "source": [
    "     As we can see fips column is weakly correlated with other columns"
   ]
  },
  {
   "cell_type": "markdown",
   "metadata": {},
   "source": [
    "### Converting categorical variables to numerical variables using label Encoding"
   ]
  },
  {
   "cell_type": "code",
   "execution_count": 8,
   "metadata": {},
   "outputs": [],
   "source": [
    "dataset['county'] = dataset.county.astype('category')\n",
    "dataset['state'] = dataset.state.astype('category')\n",
    "dataset['region'] = dataset.region.astype('category')\n",
    "\n",
    "cat_columns = dataset.select_dtypes(['category']).columns.tolist()\n",
    "for col in cat_columns:\n",
    "    dataset[col] = dataset[col].cat.codes"
   ]
  },
  {
   "cell_type": "code",
   "execution_count": 9,
   "metadata": {},
   "outputs": [
    {
     "data": {
      "text/html": [
       "<div>\n",
       "<style scoped>\n",
       "    .dataframe tbody tr th:only-of-type {\n",
       "        vertical-align: middle;\n",
       "    }\n",
       "\n",
       "    .dataframe tbody tr th {\n",
       "        vertical-align: top;\n",
       "    }\n",
       "\n",
       "    .dataframe thead th {\n",
       "        text-align: right;\n",
       "    }\n",
       "</style>\n",
       "<table border=\"1\" class=\"dataframe\">\n",
       "  <thead>\n",
       "    <tr style=\"text-align: right;\">\n",
       "      <th></th>\n",
       "      <th>date</th>\n",
       "      <th>county</th>\n",
       "      <th>state</th>\n",
       "      <th>fips</th>\n",
       "      <th>cases</th>\n",
       "      <th>deaths</th>\n",
       "      <th>region</th>\n",
       "    </tr>\n",
       "  </thead>\n",
       "  <tbody>\n",
       "    <tr>\n",
       "      <th>0</th>\n",
       "      <td>2020-01-21</td>\n",
       "      <td>1515</td>\n",
       "      <td>47</td>\n",
       "      <td>53061.0</td>\n",
       "      <td>1</td>\n",
       "      <td>0</td>\n",
       "      <td>4</td>\n",
       "    </tr>\n",
       "    <tr>\n",
       "      <th>1</th>\n",
       "      <td>2020-01-22</td>\n",
       "      <td>1515</td>\n",
       "      <td>47</td>\n",
       "      <td>53061.0</td>\n",
       "      <td>1</td>\n",
       "      <td>0</td>\n",
       "      <td>4</td>\n",
       "    </tr>\n",
       "    <tr>\n",
       "      <th>2</th>\n",
       "      <td>2020-01-23</td>\n",
       "      <td>1515</td>\n",
       "      <td>47</td>\n",
       "      <td>53061.0</td>\n",
       "      <td>1</td>\n",
       "      <td>0</td>\n",
       "      <td>4</td>\n",
       "    </tr>\n",
       "    <tr>\n",
       "      <th>3</th>\n",
       "      <td>2020-01-24</td>\n",
       "      <td>389</td>\n",
       "      <td>13</td>\n",
       "      <td>17031.0</td>\n",
       "      <td>1</td>\n",
       "      <td>0</td>\n",
       "      <td>0</td>\n",
       "    </tr>\n",
       "    <tr>\n",
       "      <th>4</th>\n",
       "      <td>2020-01-24</td>\n",
       "      <td>1515</td>\n",
       "      <td>47</td>\n",
       "      <td>53061.0</td>\n",
       "      <td>1</td>\n",
       "      <td>0</td>\n",
       "      <td>4</td>\n",
       "    </tr>\n",
       "  </tbody>\n",
       "</table>\n",
       "</div>"
      ],
      "text/plain": [
       "         date  county  state     fips  cases  deaths  region\n",
       "0  2020-01-21    1515     47  53061.0      1       0       4\n",
       "1  2020-01-22    1515     47  53061.0      1       0       4\n",
       "2  2020-01-23    1515     47  53061.0      1       0       4\n",
       "3  2020-01-24     389     13  17031.0      1       0       0\n",
       "4  2020-01-24    1515     47  53061.0      1       0       4"
      ]
     },
     "execution_count": 9,
     "metadata": {},
     "output_type": "execute_result"
    }
   ],
   "source": [
    "dataset.head()"
   ]
  },
  {
   "cell_type": "markdown",
   "metadata": {},
   "source": [
    "### Finding total number of cases for a single day and setting \"date\" column as index for Time Series Analysis"
   ]
  },
  {
   "cell_type": "code",
   "execution_count": 10,
   "metadata": {},
   "outputs": [
    {
     "data": {
      "text/html": [
       "<div>\n",
       "<style scoped>\n",
       "    .dataframe tbody tr th:only-of-type {\n",
       "        vertical-align: middle;\n",
       "    }\n",
       "\n",
       "    .dataframe tbody tr th {\n",
       "        vertical-align: top;\n",
       "    }\n",
       "\n",
       "    .dataframe thead th {\n",
       "        text-align: right;\n",
       "    }\n",
       "</style>\n",
       "<table border=\"1\" class=\"dataframe\">\n",
       "  <thead>\n",
       "    <tr style=\"text-align: right;\">\n",
       "      <th></th>\n",
       "      <th>cases</th>\n",
       "    </tr>\n",
       "    <tr>\n",
       "      <th>date</th>\n",
       "      <th></th>\n",
       "    </tr>\n",
       "  </thead>\n",
       "  <tbody>\n",
       "    <tr>\n",
       "      <th>2020-01-21</th>\n",
       "      <td>1</td>\n",
       "    </tr>\n",
       "    <tr>\n",
       "      <th>2020-01-22</th>\n",
       "      <td>1</td>\n",
       "    </tr>\n",
       "    <tr>\n",
       "      <th>2020-01-23</th>\n",
       "      <td>1</td>\n",
       "    </tr>\n",
       "    <tr>\n",
       "      <th>2020-01-24</th>\n",
       "      <td>2</td>\n",
       "    </tr>\n",
       "    <tr>\n",
       "      <th>2020-01-25</th>\n",
       "      <td>3</td>\n",
       "    </tr>\n",
       "  </tbody>\n",
       "</table>\n",
       "</div>"
      ],
      "text/plain": [
       "            cases\n",
       "date             \n",
       "2020-01-21      1\n",
       "2020-01-22      1\n",
       "2020-01-23      1\n",
       "2020-01-24      2\n",
       "2020-01-25      3"
      ]
     },
     "execution_count": 10,
     "metadata": {},
     "output_type": "execute_result"
    }
   ],
   "source": [
    "dataset = dataset.groupby(['date'],as_index=False).agg({'cases':sum})\n",
    "dataset['date'] = dataset['date'].apply(pd.to_datetime)\n",
    "dataset = dataset.set_index(\"date\")\n",
    "dataset.head()"
   ]
  },
  {
   "cell_type": "markdown",
   "metadata": {},
   "source": [
    "### Plotting Date v/s Cases to see whether cases are increasing or decreasing"
   ]
  },
  {
   "cell_type": "code",
   "execution_count": 11,
   "metadata": {},
   "outputs": [
    {
     "name": "stderr",
     "output_type": "stream",
     "text": [
      "No handles with labels found to put in legend.\n"
     ]
    },
    {
     "data": {
      "image/png": "[encoded data removed]",
      "text/plain": [
       "<Figure size 1440x360 with 1 Axes>"
      ]
     },
     "metadata": {
      "needs_background": "light"
     },
     "output_type": "display_data"
    }
   ],
   "source": [
    "plt.figure(figsize=(20, 5))\n",
    "plt.plot(dataset.index, dataset['cases'])\n",
    "plt.legend(loc='best', fontsize='xx-large')\n",
    "plt.xticks(fontsize=18)\n",
    "plt.yticks(fontsize=16)\n",
    "plt.show()"
   ]
  },
  {
   "cell_type": "markdown",
   "metadata": {},
   "source": [
    "                    We can observe that the COVID 19 cases are increasing from April till July"
   ]
  },
  {
   "cell_type": "markdown",
   "metadata": {},
   "source": [
    "### Making test data in accordance to the train data"
   ]
  },
  {
   "cell_type": "code",
   "execution_count": 12,
   "metadata": {},
   "outputs": [],
   "source": [
    "dataset_test = dataset_test[dataset_test[' Country_code'] == 'US']\n",
    "\n",
    "dataset_test = dataset_test.drop([' Country',' Country_code',' WHO_region',' New_cases',' New_deaths',' Cumulative_deaths'],axis = 1)\n",
    "\n",
    "dataset_test['date'] = dataset_test['date'].apply(pd.to_datetime)\n",
    "dataset_test = dataset_test.set_index(\"date\")\n"
   ]
  },
  {
   "cell_type": "markdown",
   "metadata": {},
   "source": [
    "### Performing Normalization of Data before applying LSTM"
   ]
  },
  {
   "cell_type": "code",
   "execution_count": 13,
   "metadata": {},
   "outputs": [],
   "source": [
    "scaler = MinMaxScaler()\n",
    "scaler.fit(dataset)\n",
    "train = scaler.transform(dataset)\n",
    "test = scaler.transform(dataset_test)"
   ]
  },
  {
   "cell_type": "markdown",
   "metadata": {},
   "source": [
    "### Applying LSTM model with:\n",
    "\n",
    "    -> Optimizer as 'Adam'\n",
    "    -> Loss Function as Mean Squared Error\n",
    "    -> Dropout as Regularization"
   ]
  },
  {
   "cell_type": "code",
   "execution_count": 14,
   "metadata": {
    "scrolled": true
   },
   "outputs": [
    {
     "name": "stdout",
     "output_type": "stream",
     "text": [
      "Epoch 1/20\n",
      "166/166 [==============================] - 8s 49ms/step - loss: 0.0535 - accuracy: 0.0000e+00\n",
      "Epoch 2/20\n",
      "166/166 [==============================] - 5s 31ms/step - loss: 0.0100 - accuracy: 0.0060 0s - loss: 0.0098 - accuracy: 0.00\n",
      "Epoch 3/20\n",
      "166/166 [==============================] - 6s 34ms/step - loss: 0.0087 - accuracy: 0.0060\n",
      "Epoch 4/20\n",
      "166/166 [==============================] - 5s 31ms/step - loss: 0.0040 - accuracy: 0.0060\n",
      "Epoch 5/20\n",
      "166/166 [==============================] - 5s 33ms/step - loss: 0.0058 - accuracy: 0.0060 1s\n",
      "Epoch 6/20\n",
      "166/166 [==============================] - 5s 33ms/step - loss: 0.0067 - accuracy: 0.0060 0s - los\n",
      "Epoch 7/20\n",
      "166/166 [==============================] - 5s 31ms/step - loss: 0.0047 - accuracy: 0.0060\n",
      "Epoch 8/20\n",
      "166/166 [==============================] - 5s 33ms/step - loss: 0.0046 - accuracy: 0.0060\n",
      "Epoch 9/20\n",
      "166/166 [==============================] - 6s 35ms/step - loss: 0.0061 - accuracy: 0.0060\n",
      "Epoch 10/20\n",
      "166/166 [==============================] - 6s 33ms/step - loss: 0.0054 - accuracy: 0.0060\n",
      "Epoch 11/20\n",
      "166/166 [==============================] - 6s 36ms/step - loss: 0.0044 - accuracy: 0.0060\n",
      "Epoch 12/20\n",
      "166/166 [==============================] - 6s 36ms/step - loss: 0.0039 - accuracy: 0.0060\n",
      "Epoch 13/20\n",
      "166/166 [==============================] - 6s 36ms/step - loss: 0.0036 - accuracy: 0.0060\n",
      "Epoch 14/20\n",
      "166/166 [==============================] - 6s 36ms/step - loss: 0.0036 - accuracy: 0.0060\n",
      "Epoch 15/20\n",
      "166/166 [==============================] - 6s 36ms/step - loss: 0.0029 - accuracy: 0.0060\n",
      "Epoch 16/20\n",
      "166/166 [==============================] - 6s 33ms/step - loss: 0.0034 - accuracy: 0.0060\n",
      "Epoch 17/20\n",
      "166/166 [==============================] - 6s 34ms/step - loss: 0.0030 - accuracy: 0.0060\n",
      "Epoch 18/20\n",
      "166/166 [==============================] - 5s 32ms/step - loss: 0.0043 - accuracy: 0.0060\n",
      "Epoch 19/20\n",
      "166/166 [==============================] - 5s 32ms/step - loss: 0.0028 - accuracy: 0.0060\n",
      "Epoch 20/20\n",
      "166/166 [==============================] - 5s 33ms/step - loss: 0.0035 - accuracy: 0.0060\n"
     ]
    },
    {
     "data": {
      "text/plain": [
       "<keras.callbacks.callbacks.History at 0x2bfbdf7cc88>"
      ]
     },
     "execution_count": 14,
     "metadata": {},
     "output_type": "execute_result"
    }
   ],
   "source": [
    "n_features = 1\n",
    "n_input = 20 \n",
    "batch_size = 1\n",
    "\n",
    "generator = TimeseriesGenerator(train,train,length=n_input,batch_size=batch_size)\n",
    "\n",
    "regressor = Sequential()\n",
    "\n",
    "regressor.add(LSTM(units = 10, input_shape=(n_input,n_features)))\n",
    "regressor.add(Dropout(0.2))\n",
    "\n",
    "regressor.add(Dense(units = 1))\n",
    "\n",
    "regressor.compile(optimizer = 'adam', loss = 'mean_squared_error',metrics=['accuracy'])\n",
    "\n",
    "regressor.fit_generator(generator=generator,epochs=20)\n"
   ]
  },
  {
   "cell_type": "markdown",
   "metadata": {},
   "source": [
    "### Plotting MSE v/s Epochs to see how our model is performing"
   ]
  },
  {
   "cell_type": "code",
   "execution_count": 15,
   "metadata": {},
   "outputs": [
    {
     "data": {
      "text/plain": [
       "[<matplotlib.lines.Line2D at 0x2c040c60688>]"
      ]
     },
     "execution_count": 15,
     "metadata": {},
     "output_type": "execute_result"
    },
    {
     "data": {
      "image/png": "[encoded data removed]",
      "text/plain": [
       "<Figure size 864x288 with 1 Axes>"
      ]
     },
     "metadata": {
      "needs_background": "light"
     },
     "output_type": "display_data"
    }
   ],
   "source": [
    "losses_lstm = regressor.history.history['loss']\n",
    "plt.figure(figsize=(12,4))\n",
    "plt.xlabel(\"Epochs\")\n",
    "plt.ylabel(\"Loss\")\n",
    "plt.xticks(np.arange(0,21,1))\n",
    "plt.plot(range(len(losses_lstm)),losses_lstm)"
   ]
  },
  {
   "cell_type": "markdown",
   "metadata": {},
   "source": [
    "     As we can see the performance of the model is relatively good as MSE gets decreased in each epoch "
   ]
  },
  {
   "cell_type": "markdown",
   "metadata": {},
   "source": [
    "### Getting the list of predictions by model:\n",
    "\n",
    "    -> create an empty list for each of our 20 predictions\n",
    "    -> create the batch that our model will predict off \n",
    "    -> save the prediction to our list\n",
    "    -> add the prediction to the end of the batch to be used in the next prediction"
   ]
  },
  {
   "cell_type": "code",
   "execution_count": 16,
   "metadata": {},
   "outputs": [],
   "source": [
    "test_predictions = []\n",
    "\n",
    "current_batch = train[-n_input:].reshape(1,n_input,n_features)\n",
    "\n",
    "for i in range(n_input):\n",
    "    current_pred = regressor.predict(current_batch)[0]\n",
    "    test_predictions.append(current_pred)\n",
    "    current_batch = np.append(current_batch[:,1:,:],[[current_pred]],axis = 1)"
   ]
  },
  {
   "cell_type": "markdown",
   "metadata": {},
   "source": [
    "### Applying Reverse scaling in order to see the data in the original format and it is concatenated to the original dataframe"
   ]
  },
  {
   "cell_type": "code",
   "execution_count": 17,
   "metadata": {},
   "outputs": [],
   "source": [
    "df_predict = pd.DataFrame(scaler.inverse_transform(test_predictions),                           \n",
    "index = dataset[-n_input:].index, columns=['Prediction'])\n",
    "df_test = pd.concat([dataset,df_predict], axis=1)"
   ]
  },
  {
   "cell_type": "markdown",
   "metadata": {},
   "source": [
    "### Plotting Predicted values to the Actual Values"
   ]
  },
  {
   "cell_type": "code",
   "execution_count": 20,
   "metadata": {},
   "outputs": [
    {
     "name": "stderr",
     "output_type": "stream",
     "text": [
      "No handles with labels found to put in legend.\n"
     ]
    },
    {
     "data": {
      "image/png": "[encoded data removed]",
      "text/plain": [
       "<Figure size 1440x360 with 1 Axes>"
      ]
     },
     "metadata": {
      "needs_background": "light"
     },
     "output_type": "display_data"
    }
   ],
   "source": [
    "plt.figure(figsize=(20, 5))\n",
    "plt.plot(df_test.index, df_test['cases'])\n",
    "plt.plot(df_test.index, df_test['Prediction'], color='r')\n",
    "plt.legend(loc='best', fontsize='xx-large')\n",
    "plt.xticks(fontsize=18)\n",
    "plt.yticks(fontsize=16)\n",
    "plt.show()"
   ]
  },
  {
   "cell_type": "markdown",
   "metadata": {},
   "source": [
    "              As we can see the model is performing well on the test data in predicting the cases"
   ]
  },
  {
   "cell_type": "markdown",
   "metadata": {},
   "source": [
    "\n",
    "\n",
    "\n",
    "\n",
    "\n",
    "\n",
    "## Part 2: Predicting Beyond the Test Dataset"
   ]
  },
  {
   "cell_type": "markdown",
   "metadata": {},
   "source": [
    "### It is mainly the same code, except where future dates are added on."
   ]
  },
  {
   "cell_type": "code",
   "execution_count": 21,
   "metadata": {},
   "outputs": [
    {
     "name": "stdout",
     "output_type": "stream",
     "text": [
      "Epoch 1/90\n",
      "28/28 [==============================] - 1s 31ms/step - loss: 0.0025 - accuracy: 0.0060\n",
      "Epoch 2/90\n",
      "28/28 [==============================] - 1s 28ms/step - loss: 0.0027 - accuracy: 0.0060\n",
      "Epoch 3/90\n",
      "28/28 [==============================] - 1s 29ms/step - loss: 0.0028 - accuracy: 0.0060\n",
      "Epoch 4/90\n",
      "28/28 [==============================] - 1s 32ms/step - loss: 0.0025 - accuracy: 0.0060\n",
      "Epoch 5/90\n",
      "28/28 [==============================] - 1s 29ms/step - loss: 0.0022 - accuracy: 0.0060\n",
      "Epoch 6/90\n",
      "28/28 [==============================] - 1s 28ms/step - loss: 0.0037 - accuracy: 0.0060\n",
      "Epoch 7/90\n",
      "28/28 [==============================] - 1s 29ms/step - loss: 0.0025 - accuracy: 0.0060\n",
      "Epoch 8/90\n",
      "28/28 [==============================] - 1s 38ms/step - loss: 0.0028 - accuracy: 0.0060\n",
      "Epoch 9/90\n",
      "28/28 [==============================] - 1s 31ms/step - loss: 0.0032 - accuracy: 0.0060ETA: 0s - loss: 0.0031 - accuracy: 0.\n",
      "Epoch 10/90\n",
      "28/28 [==============================] - 1s 31ms/step - loss: 0.0025 - accuracy: 0.0060\n",
      "Epoch 11/90\n",
      "28/28 [==============================] - 1s 29ms/step - loss: 0.0028 - accuracy: 0.0060\n",
      "Epoch 12/90\n",
      "28/28 [==============================] - 1s 29ms/step - loss: 0.0036 - accuracy: 0.0060\n",
      "Epoch 13/90\n",
      "28/28 [==============================] - 1s 28ms/step - loss: 0.0023 - accuracy: 0.0060\n",
      "Epoch 14/90\n",
      "28/28 [==============================] - 1s 28ms/step - loss: 0.0025 - accuracy: 0.0060\n",
      "Epoch 15/90\n",
      "28/28 [==============================] - 1s 27ms/step - loss: 0.0026 - accuracy: 0.0060\n",
      "Epoch 16/90\n",
      "28/28 [==============================] - 1s 26ms/step - loss: 0.0026 - accuracy: 0.0060\n",
      "Epoch 17/90\n",
      "28/28 [==============================] - 1s 27ms/step - loss: 0.0023 - accuracy: 0.0060\n",
      "Epoch 18/90\n",
      "28/28 [==============================] - 1s 31ms/step - loss: 0.0037 - accuracy: 0.0060\n",
      "Epoch 19/90\n",
      "28/28 [==============================] - 1s 32ms/step - loss: 0.0034 - accuracy: 0.0060\n",
      "Epoch 20/90\n",
      "28/28 [==============================] - 1s 32ms/step - loss: 0.0021 - accuracy: 0.0060\n",
      "Epoch 21/90\n",
      "28/28 [==============================] - 1s 41ms/step - loss: 0.0025 - accuracy: 0.0060\n",
      "Epoch 22/90\n",
      "28/28 [==============================] - 1s 30ms/step - loss: 0.0037 - accuracy: 0.0060\n",
      "Epoch 23/90\n",
      "28/28 [==============================] - 1s 29ms/step - loss: 0.0023 - accuracy: 0.0060\n",
      "Epoch 24/90\n",
      "28/28 [==============================] - 1s 28ms/step - loss: 0.0023 - accuracy: 0.0060\n",
      "Epoch 25/90\n",
      "28/28 [==============================] - 1s 28ms/step - loss: 0.0029 - accuracy: 0.0060\n",
      "Epoch 26/90\n",
      "28/28 [==============================] - 1s 28ms/step - loss: 0.0032 - accuracy: 0.0060\n",
      "Epoch 27/90\n",
      "28/28 [==============================] - 1s 32ms/step - loss: 0.0030 - accuracy: 0.0060\n",
      "Epoch 28/90\n",
      "28/28 [==============================] - 1s 32ms/step - loss: 0.0027 - accuracy: 0.0060\n",
      "Epoch 29/90\n",
      "28/28 [==============================] - 1s 30ms/step - loss: 0.0023 - accuracy: 0.0060\n",
      "Epoch 30/90\n",
      "28/28 [==============================] - 1s 30ms/step - loss: 0.0028 - accuracy: 0.0060\n",
      "Epoch 31/90\n",
      "28/28 [==============================] - 1s 31ms/step - loss: 0.0031 - accuracy: 0.0060\n",
      "Epoch 32/90\n",
      "28/28 [==============================] - 1s 32ms/step - loss: 0.0019 - accuracy: 0.0060\n",
      "Epoch 33/90\n",
      "28/28 [==============================] - 1s 33ms/step - loss: 0.0022 - accuracy: 0.0060\n",
      "Epoch 34/90\n",
      "28/28 [==============================] - 1s 35ms/step - loss: 0.0027 - accuracy: 0.0060\n",
      "Epoch 35/90\n",
      "28/28 [==============================] - 1s 36ms/step - loss: 0.0024 - accuracy: 0.0060\n",
      "Epoch 36/90\n",
      "28/28 [==============================] - 1s 32ms/step - loss: 0.0028 - accuracy: 0.0060\n",
      "Epoch 37/90\n",
      "28/28 [==============================] - 1s 34ms/step - loss: 0.0027 - accuracy: 0.0060\n",
      "Epoch 38/90\n",
      "28/28 [==============================] - 1s 36ms/step - loss: 0.0024 - accuracy: 0.0060\n",
      "Epoch 39/90\n",
      "28/28 [==============================] - 1s 36ms/step - loss: 0.0021 - accuracy: 0.0060\n",
      "Epoch 40/90\n",
      "28/28 [==============================] - 1s 32ms/step - loss: 0.0031 - accuracy: 0.0060A: 0s - loss: 0.0046 - accu\n",
      "Epoch 41/90\n",
      "28/28 [==============================] - 1s 29ms/step - loss: 0.0032 - accuracy: 0.0060\n",
      "Epoch 42/90\n",
      "28/28 [==============================] - 1s 30ms/step - loss: 0.0018 - accuracy: 0.0060\n",
      "Epoch 43/90\n",
      "28/28 [==============================] - 1s 38ms/step - loss: 0.0019 - accuracy: 0.0060\n",
      "Epoch 44/90\n",
      "28/28 [==============================] - 1s 33ms/step - loss: 0.0022 - accuracy: 0.0060\n",
      "Epoch 45/90\n",
      "28/28 [==============================] - 1s 28ms/step - loss: 0.0024 - accuracy: 0.0060\n",
      "Epoch 46/90\n",
      "28/28 [==============================] - 1s 29ms/step - loss: 0.0032 - accuracy: 0.0060\n",
      "Epoch 47/90\n",
      "28/28 [==============================] - 1s 29ms/step - loss: 0.0026 - accuracy: 0.0060\n",
      "Epoch 48/90\n",
      "28/28 [==============================] - 1s 29ms/step - loss: 0.0023 - accuracy: 0.0060\n",
      "Epoch 49/90\n",
      "28/28 [==============================] - 1s 29ms/step - loss: 0.0022 - accuracy: 0.0060\n",
      "Epoch 50/90\n",
      "28/28 [==============================] - 1s 29ms/step - loss: 0.0019 - accuracy: 0.0060\n",
      "Epoch 51/90\n",
      "28/28 [==============================] - 1s 29ms/step - loss: 0.0029 - accuracy: 0.0060\n",
      "Epoch 52/90\n",
      "28/28 [==============================] - 1s 28ms/step - loss: 0.0032 - accuracy: 0.0060\n",
      "Epoch 53/90\n",
      "28/28 [==============================] - 1s 29ms/step - loss: 0.0027 - accuracy: 0.0060\n",
      "Epoch 54/90\n",
      "28/28 [==============================] - 1s 30ms/step - loss: 0.0018 - accuracy: 0.0060+ - ETA: 0s - loss: 0.0014 \n",
      "Epoch 55/90\n",
      "28/28 [==============================] - 1s 34ms/step - loss: 0.0021 - accuracy: 0.0060\n",
      "Epoch 56/90\n",
      "28/28 [==============================] - 1s 38ms/step - loss: 0.0028 - accuracy: 0.0060\n",
      "Epoch 57/90\n",
      "28/28 [==============================] - 1s 31ms/step - loss: 0.0021 - accuracy: 0.0060\n",
      "Epoch 58/90\n",
      "28/28 [==============================] - 1s 28ms/step - loss: 0.0026 - accuracy: 0.0060- ETA: 0s - loss: 0.0058 - \n",
      "Epoch 59/90\n",
      "28/28 [==============================] - 1s 29ms/step - loss: 0.0031 - accuracy: 0.0060\n",
      "Epoch 60/90\n",
      "28/28 [==============================] - 1s 31ms/step - loss: 0.0026 - accuracy: 0.0060\n",
      "Epoch 61/90\n",
      "28/28 [==============================] - 1s 28ms/step - loss: 0.0029 - accuracy: 0.0060\n",
      "Epoch 62/90\n",
      "28/28 [==============================] - 1s 29ms/step - loss: 0.0028 - accuracy: 0.0060- ETA: 0s - loss: 0.0020 \n",
      "Epoch 63/90\n",
      "28/28 [==============================] - 1s 40ms/step - loss: 0.0026 - accuracy: 0.0060\n",
      "Epoch 64/90\n",
      "28/28 [==============================] - 1s 32ms/step - loss: 0.0025 - accuracy: 0.0060\n",
      "Epoch 65/90\n",
      "28/28 [==============================] - 1s 34ms/step - loss: 0.0025 - accuracy: 0.0060\n",
      "Epoch 66/90\n",
      "28/28 [==============================] - 1s 28ms/step - loss: 0.0021 - accuracy: 0.0060\n",
      "Epoch 67/90\n",
      "28/28 [==============================] - 1s 28ms/step - loss: 0.0029 - accuracy: 0.0060\n",
      "Epoch 68/90\n",
      "28/28 [==============================] - 1s 34ms/step - loss: 0.0026 - accuracy: 0.0060\n",
      "Epoch 69/90\n",
      "28/28 [==============================] - 1s 32ms/step - loss: 0.0020 - accuracy: 0.0060\n",
      "Epoch 70/90\n",
      "28/28 [==============================] - 1s 36ms/step - loss: 0.0021 - accuracy: 0.0060 0s - loss: 0.0021 - accuracy: 0.00\n",
      "Epoch 71/90\n",
      "28/28 [==============================] - 1s 28ms/step - loss: 0.0030 - accuracy: 0.0060\n",
      "Epoch 72/90\n",
      "28/28 [==============================] - 1s 29ms/step - loss: 0.0029 - accuracy: 0.0060A: 0s - loss: 0.0034 - accuracy\n",
      "Epoch 73/90\n",
      "28/28 [==============================] - 1s 36ms/step - loss: 0.0027 - accuracy: 0.0060\n",
      "Epoch 74/90\n",
      "28/28 [==============================] - 1s 41ms/step - loss: 0.0025 - accuracy: 0.0060\n",
      "Epoch 75/90\n",
      "28/28 [==============================] - 1s 42ms/step - loss: 0.0023 - accuracy: 0.0060\n",
      "Epoch 76/90\n",
      "28/28 [==============================] - 1s 39ms/step - loss: 0.0033 - accuracy: 0.0060\n",
      "Epoch 77/90\n",
      "28/28 [==============================] - 1s 38ms/step - loss: 0.0030 - accuracy: 0.0060\n",
      "Epoch 78/90\n",
      "28/28 [==============================] - 1s 28ms/step - loss: 0.0020 - accuracy: 0.0060\n",
      "Epoch 79/90\n",
      "28/28 [==============================] - 1s 33ms/step - loss: 0.0021 - accuracy: 0.0060\n",
      "Epoch 80/90\n"
     ]
    },
    {
     "name": "stdout",
     "output_type": "stream",
     "text": [
      "28/28 [==============================] - 1s 30ms/step - loss: 0.0020 - accuracy: 0.0060\n",
      "Epoch 81/90\n",
      "28/28 [==============================] - 1s 40ms/step - loss: 0.0036 - accuracy: 0.0060\n",
      "Epoch 82/90\n",
      "28/28 [==============================] - 1s 45ms/step - loss: 0.0015 - accuracy: 0.0060\n",
      "Epoch 83/90\n",
      "28/28 [==============================] - 1s 41ms/step - loss: 0.0025 - accuracy: 0.0060\n",
      "Epoch 84/90\n",
      "28/28 [==============================] - 1s 40ms/step - loss: 0.0026 - accuracy: 0.0060\n",
      "Epoch 85/90\n",
      "28/28 [==============================] - 1s 41ms/step - loss: 0.0023 - accuracy: 0.0060\n",
      "Epoch 86/90\n",
      "28/28 [==============================] - 1s 40ms/step - loss: 0.0037 - accuracy: 0.0060\n",
      "Epoch 87/90\n",
      "28/28 [==============================] - 1s 37ms/step - loss: 0.0017 - accuracy: 0.0060\n",
      "Epoch 88/90\n",
      "28/28 [==============================] - 1s 36ms/step - loss: 0.0024 - accuracy: 0.0060\n",
      "Epoch 89/90\n",
      "28/28 [==============================] - 1s 42ms/step - loss: 0.0026 - accuracy: 0.0060\n",
      "Epoch 90/90\n",
      "28/28 [==============================] - 1s 46ms/step - loss: 0.0020 - accuracy: 0.0060\n"
     ]
    }
   ],
   "source": [
    "train = dataset\n",
    "scaler.fit(train)\n",
    "train = scaler.transform(train)\n",
    "n_input = 20\n",
    "n_features = 1\n",
    "generator = TimeseriesGenerator(train, train, length=n_input, batch_size=6)\n",
    "regressor.fit_generator(generator,epochs=90)\n",
    "pred_list = []  \n",
    "batch = train[-n_input:].reshape((1, n_input, n_features))\n",
    "for i in range(n_input):\n",
    "    pred_list.append(regressor.predict(batch)[0])      \n",
    "    batch = np.append(batch[:,1:,:],[[pred_list[i]]],axis=1)"
   ]
  },
  {
   "cell_type": "markdown",
   "metadata": {},
   "source": [
    "### Creating new dates for the next 20 Days which is from July 27th to August 15th"
   ]
  },
  {
   "cell_type": "code",
   "execution_count": 22,
   "metadata": {},
   "outputs": [],
   "source": [
    "from pandas.tseries.offsets import DateOffset\n",
    "add_dates = [dataset.index[-1] + DateOffset(days=x) for x in range(0,21) ]\n",
    "future_dates = pd.DataFrame(index=add_dates[1:],columns=dataset.columns)"
   ]
  },
  {
   "cell_type": "markdown",
   "metadata": {},
   "source": [
    "### Performing Inverse scaling same as previous except, the index being set to the future dates."
   ]
  },
  {
   "cell_type": "code",
   "execution_count": 23,
   "metadata": {},
   "outputs": [],
   "source": [
    "df_predict = pd.DataFrame(scaler.inverse_transform(test_predictions),\n",
    "                          index=future_dates[-n_input:].index, columns=['Prediction'])\n",
    "\n",
    "df_proj = pd.concat([dataset,df_predict], axis=1)"
   ]
  },
  {
   "cell_type": "markdown",
   "metadata": {},
   "source": [
    "### Here can check out the results of Forecasting from July 27th to August 15th"
   ]
  },
  {
   "cell_type": "code",
   "execution_count": 24,
   "metadata": {
    "scrolled": true
   },
   "outputs": [
    {
     "name": "stderr",
     "output_type": "stream",
     "text": [
      "No handles with labels found to put in legend.\n"
     ]
    },
    {
     "data": {
      "image/png": "[encoded data removed]",
      "text/plain": [
       "<Figure size 1440x360 with 1 Axes>"
      ]
     },
     "metadata": {
      "needs_background": "light"
     },
     "output_type": "display_data"
    }
   ],
   "source": [
    "plt.figure(figsize=(20, 5))\n",
    "plt.plot(df_proj.index, df_proj['cases'])\n",
    "plt.plot(df_proj.index, df_proj['Prediction'], color='r')\n",
    "plt.legend(loc='best', fontsize='xx-large')\n",
    "plt.xticks(fontsize=18)\n",
    "plt.yticks(fontsize=16)\n",
    "plt.show()"
   ]
  },
  {
   "cell_type": "markdown",
   "metadata": {},
   "source": [
    "We can see that the graph is following \"upward\" trend from July 27th - August 15th indicating that the number of cases will likely to increase between July 27-August 15 and the USA Government should focus more on stopping the spread of COVID 19 by rolling back the opening of certain states where there is a spike like Texas,Georgia,Florida etc and by providing newer guidelines for social distancing, mandating masks, sanitation and hygine, so that the cases can be controlled in future. "
   ]
  },
  {
   "cell_type": "code",
   "execution_count": null,
   "metadata": {},
   "outputs": [],
   "source": []
  }
 ],
 "metadata": {
  "kernelspec": {
   "display_name": "tensor-gpu",
   "language": "python",
   "name": "tensor-gpu"
  },
  "language_info": {
   "codemirror_mode": {
    "name": "ipython",
    "version": 3
   },
   "file_extension": ".py",
   "mimetype": "text/x-python",
   "name": "python",
   "nbconvert_exporter": "python",
   "pygments_lexer": "ipython3",
   "version": "3.7.6"
  }
 },
 "nbformat": 4,
 "nbformat_minor": 4
}
